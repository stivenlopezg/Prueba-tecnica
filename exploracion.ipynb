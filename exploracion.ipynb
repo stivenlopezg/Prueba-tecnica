{
 "cells": [
  {
   "cell_type": "code",
   "execution_count": 1,
   "metadata": {
    "collapsed": true,
    "pycharm": {
     "is_executing": false
    }
   },
   "outputs": [],
   "source": [
    "import joblib\n",
    "import numpy as np\n",
    "import pandas as pd\n",
    "import featuretools as ft\n",
    "import missingno as msno\n",
    "from sklearn.model_selection import train_test_split, cross_val_score\n",
    "from classification_model.config import features, target, \\\n",
    "                                        numerical_features, categorical_features\n",
    "from classification_model.custom_pipeline import ColumnSelector, ConvertDtypes, \\\n",
    "                                                 GetDummies, GetDataFrame\n",
    "from classification_model.evaluation import generate_report, confusion_matrix, metrics_summary\n",
    "from sklearn.preprocessing import StandardScaler\n",
    "from sklearn.linear_model import LogisticRegression\n",
    "from sklearn.svm import SVC\n",
    "from sklearn.ensemble import RandomForestClassifier, GradientBoostingClassifier\n",
    "from sklearn.pipeline import Pipeline, FeatureUnion\n",
    "import warnings\n",
    "\n",
    "pd.set_option('max_rows', 500), pd.set_option('max_columns', 500), pd.set_option('float_format', '{:.2f}'.format)\n",
    "warnings.filterwarnings(action='ignore')"
   ]
  },
  {
   "cell_type": "code",
   "execution_count": 2,
   "outputs": [
    {
     "name": "stdout",
     "text": [
      "El conjunto de datos tiene 649133 observaciones, y 12 variables\n"
     ],
     "output_type": "stream"
    }
   ],
   "source": [
    "dtypes = {\n",
    "    'cedula1': 'category',\n",
    "    'franquicia': 'category',\n",
    "    'tipo_tarjeta': 'category'\n",
    "}\n",
    "estado = pd.read_csv('data/estado_tc.csv', sep=';', \n",
    "                     parse_dates=['fecha_de_emision', 'fecha_ult_aumento_cupo'], dtype=dtypes)\n",
    "print(f'El conjunto de datos tiene {estado.shape[0]} observaciones, y {estado.shape[1]} variables')"
   ],
   "metadata": {
    "collapsed": false,
    "pycharm": {
     "name": "#%%\n",
     "is_executing": false
    }
   }
  },
  {
   "cell_type": "code",
   "execution_count": 3,
   "outputs": [],
   "source": [
    "estado['aumento_cupo'] = estado['fecha_ult_aumento_cupo'].apply(lambda x: 1 if x != '0' else 0)\n",
    "estado['codigo_estado_tarjeta'] = estado['codigo_estado_tarjeta'].apply(lambda x: 1 if x !=0 else 0)\n",
    "estado['franquicia'] = estado['franquicia'].apply(lambda x: str(x).lower())\n",
    "estado['tipo_tarjeta'] = estado['tipo_tarjeta'].apply(lambda x: str(x).lower())"
   ],
   "metadata": {
    "collapsed": false,
    "pycharm": {
     "name": "#%%\n",
     "is_executing": false
    }
   }
  },
  {
   "cell_type": "code",
   "execution_count": 4,
   "outputs": [],
   "source": [
    "subset = ['cedula1', 'franquicia', 'tipo_tarjeta',\n",
    "          'numerotarjeta1', 'fecha_de_emision', 'codigo_vendedor', 'codigo_estado_tarjeta']"
   ],
   "metadata": {
    "collapsed": false,
    "pycharm": {
     "name": "#%%\n",
     "is_executing": false
    }
   }
  },
  {
   "cell_type": "code",
   "execution_count": 5,
   "outputs": [],
   "source": [
    "estado = estado.drop_duplicates(subset=subset, keep='last')\n",
    "estado.drop_duplicates(subset=['numerotarjeta1'], keep=False, inplace=True)\n",
    "estado.drop(['fecha_ult_aumento_cupo', 'codigo_vendedor'], axis=1, inplace=True)"
   ],
   "metadata": {
    "collapsed": false,
    "pycharm": {
     "name": "#%%\n",
     "is_executing": false
    }
   }
  },
  {
   "cell_type": "code",
   "execution_count": 6,
   "outputs": [],
   "source": [
    "codigo_estado_tarjeta = estado.pop('codigo_estado_tarjeta')\n",
    "codigo_estado_tarjeta = pd.concat([codigo_estado_tarjeta, estado['numerotarjeta1']], axis=1)"
   ],
   "metadata": {
    "collapsed": false,
    "pycharm": {
     "name": "#%%\n",
     "is_executing": false
    }
   }
  },
  {
   "cell_type": "code",
   "execution_count": 7,
   "outputs": [],
   "source": [
    "dtypes = {\n",
    "    'cedula1': 'category',\n",
    "    'codigo_transaccion': 'category'\n",
    "}\n",
    "trx = pd.read_csv('data/trx.csv', sep=';',\n",
    "                  parse_dates=['fecha_de_transaccion'], dtype=dtypes)"
   ],
   "metadata": {
    "collapsed": false,
    "pycharm": {
     "name": "#%%\n",
     "is_executing": false
    }
   }
  },
  {
   "cell_type": "code",
   "execution_count": 8,
   "outputs": [
    {
     "data": {
      "text/plain": "Entityset: users\n  Entities:\n    users [Rows: 126541, Columns: 10]\n  Relationships:\n    No relationships"
     },
     "metadata": {},
     "output_type": "execute_result",
     "execution_count": 8
    }
   ],
   "source": [
    "es = ft.EntitySet(id='users')\n",
    "es.entity_from_dataframe(entity_id='users',\n",
    "                         dataframe=estado,\n",
    "                         index='numerotarjeta1',\n",
    "                         variable_types={'aumento_cupo': ft.variable_types.Categorical})"
   ],
   "metadata": {
    "collapsed": false,
    "pycharm": {
     "name": "#%%\n",
     "is_executing": false
    }
   }
  },
  {
   "cell_type": "code",
   "execution_count": 9,
   "outputs": [
    {
     "data": {
      "text/plain": "Entityset: users\n  Entities:\n    users [Rows: 126541, Columns: 10]\n    trx [Rows: 2045721, Columns: 7]\n  Relationships:\n    No relationships"
     },
     "metadata": {},
     "output_type": "execute_result",
     "execution_count": 9
    }
   ],
   "source": [
    "es.entity_from_dataframe(entity_id='trx', \n",
    "                         dataframe=trx,\n",
    "                         variable_types={'codigo_transaccion': ft.variable_types.Categorical},\n",
    "                         make_index=True,\n",
    "                         index='trx_id',\n",
    "                         time_index='fecha_de_transaccion')"
   ],
   "metadata": {
    "collapsed": false,
    "pycharm": {
     "name": "#%%\n",
     "is_executing": false
    }
   }
  },
  {
   "cell_type": "code",
   "execution_count": 10,
   "outputs": [],
   "source": [
    "relationship = ft.Relationship(es['users']['numerotarjeta1'],\n",
    "                               es['trx']['numerotarjeta1'])\n",
    "es = es.add_relationship(relationship=relationship)"
   ],
   "metadata": {
    "collapsed": false,
    "pycharm": {
     "name": "#%%\n",
     "is_executing": false
    }
   }
  },
  {
   "cell_type": "code",
   "execution_count": 11,
   "outputs": [
    {
     "name": "stdout",
     "text": [
      "El conjunto de datos tiene 126541 observaciones, y 39 variables.\n"
     ],
     "output_type": "stream"
    },
    {
     "data": {
      "text/plain": "  cedula1  franquicia         tipo_tarjeta  cupo_global  disponible  \\\n0  126039        amex                 azul   3000000.00  3000000.00   \n1  126036        visa  clasica tradicional   3000000.00  2240678.97   \n2  126000  mastercard  mastercard platinum  10000000.00  5345069.98   \n3   17645        amex                 azul   1200000.00   517174.73   \n4   64129        amex                 azul   2000000.00  1036992.90   \n\n   total_mes_en_mora  altura_de_mora  aumento_cupo  \\\n0                  0            0.00             0   \n1                  9            0.00             0   \n2                  0            0.00             0   \n3                  0            0.00             0   \n4                  9            0.00             0   \n\n   SUM(trx.valor_transaccion)  SUM(trx.numero_cuotas_diferidas)  \\\n0                   135511.50                            182.00   \n1                  2882325.43                            105.00   \n2                   303694.92                            313.00   \n3                      851.23                             24.00   \n4                   757600.00                              0.00   \n\n   STD(trx.valor_transaccion)  STD(trx.numero_cuotas_diferidas)  \\\n0                    10841.27                              5.97   \n1                   206892.79                              6.56   \n2                    23359.03                              7.16   \n3                       35.26                              4.67   \n4                    42880.04                              0.00   \n\n   MAX(trx.valor_transaccion)  MAX(trx.numero_cuotas_diferidas)  \\\n0                    28900.00                             12.00   \n1                   929164.00                             24.00   \n2                   101630.00                             24.00   \n3                      149.05                             12.00   \n4                   178000.00                              0.00   \n\n   SKEW(trx.valor_transaccion)  SKEW(trx.numero_cuotas_diferidas)  \\\n0                         1.78                              -0.34   \n1                         3.21                               1.55   \n2                         2.71                               0.11   \n3                         1.68                               2.06   \n4                         1.81                               0.00   \n\n   MIN(trx.valor_transaccion)  MIN(trx.numero_cuotas_diferidas)  \\\n0                        4.72                              0.00   \n1                    15700.00                              0.00   \n2                        3.14                              0.00   \n3                       42.00                              0.00   \n4                    28900.00                              0.00   \n\n   MEAN(trx.valor_transaccion)  MEAN(trx.numero_cuotas_diferidas)  COUNT(trx)  \\\n0                      5211.98                               7.00       26.00   \n1                    120096.89                               4.38       24.00   \n2                      9202.88                               9.48       33.00   \n3                        70.94                               2.00       12.00   \n4                     68872.73                               0.00       11.00   \n\n   NUM_UNIQUE(trx.cedula1)  NUM_UNIQUE(trx.codigo_transaccion)  \\\n0                     1.00                                4.00   \n1                     1.00                                4.00   \n2                     1.00                                4.00   \n3                     1.00                                2.00   \n4                     1.00                                2.00   \n\n  MODE(trx.cedula1) MODE(trx.codigo_transaccion)  DAY(fecha_de_emision)  \\\n0            126039                            7                      9   \n1            126036                            6                     31   \n2            126000                            7                     21   \n3             17645                            4                     15   \n4             64129                            4                     17   \n\n   YEAR(fecha_de_emision)  MONTH(fecha_de_emision)  WEEKDAY(fecha_de_emision)  \\\n0                    2014                        7                          2   \n1                    2012                        7                          1   \n2                    2011                        6                          1   \n3                    2012                        5                          1   \n4                    2012                        5                          3   \n\n   NUM_UNIQUE(trx.DAY(fecha_de_transaccion))  \\\n0                                      17.00   \n1                                      14.00   \n2                                      18.00   \n3                                       8.00   \n4                                       7.00   \n\n   NUM_UNIQUE(trx.MONTH(fecha_de_transaccion))  \\\n0                                         5.00   \n1                                         5.00   \n2                                         5.00   \n3                                        10.00   \n4                                        10.00   \n\n   NUM_UNIQUE(trx.WEEKDAY(fecha_de_transaccion))  \\\n0                                           6.00   \n1                                           7.00   \n2                                           7.00   \n3                                           5.00   \n4                                           5.00   \n\n   NUM_UNIQUE(trx.YEAR(fecha_de_transaccion))  \\\n0                                        1.00   \n1                                        1.00   \n2                                        1.00   \n3                                        1.00   \n4                                        1.00   \n\n   MODE(trx.DAY(fecha_de_transaccion))  MODE(trx.MONTH(fecha_de_transaccion))  \\\n0                                20.00                                   1.00   \n1                                22.00                                   5.00   \n2                                 5.00                                   1.00   \n3                                25.00                                   3.00   \n4                                29.00                                   9.00   \n\n   MODE(trx.WEEKDAY(fecha_de_transaccion))  \\\n0                                     0.00   \n1                                     4.00   \n2                                     0.00   \n3                                     2.00   \n4                                     4.00   \n\n   MODE(trx.YEAR(fecha_de_transaccion))  numerotarjeta1  codigo_estado_tarjeta  \n0                               2015.00            9941                      0  \n1                               2015.00           61128                      0  \n2                               2015.00          128985                      0  \n3                               2015.00           17005                      0  \n4                               2015.00            2320                      0  ",
      "text/html": "<div>\n<style scoped>\n    .dataframe tbody tr th:only-of-type {\n        vertical-align: middle;\n    }\n\n    .dataframe tbody tr th {\n        vertical-align: top;\n    }\n\n    .dataframe thead th {\n        text-align: right;\n    }\n</style>\n<table border=\"1\" class=\"dataframe\">\n  <thead>\n    <tr style=\"text-align: right;\">\n      <th></th>\n      <th>cedula1</th>\n      <th>franquicia</th>\n      <th>tipo_tarjeta</th>\n      <th>cupo_global</th>\n      <th>disponible</th>\n      <th>total_mes_en_mora</th>\n      <th>altura_de_mora</th>\n      <th>aumento_cupo</th>\n      <th>SUM(trx.valor_transaccion)</th>\n      <th>SUM(trx.numero_cuotas_diferidas)</th>\n      <th>STD(trx.valor_transaccion)</th>\n      <th>STD(trx.numero_cuotas_diferidas)</th>\n      <th>MAX(trx.valor_transaccion)</th>\n      <th>MAX(trx.numero_cuotas_diferidas)</th>\n      <th>SKEW(trx.valor_transaccion)</th>\n      <th>SKEW(trx.numero_cuotas_diferidas)</th>\n      <th>MIN(trx.valor_transaccion)</th>\n      <th>MIN(trx.numero_cuotas_diferidas)</th>\n      <th>MEAN(trx.valor_transaccion)</th>\n      <th>MEAN(trx.numero_cuotas_diferidas)</th>\n      <th>COUNT(trx)</th>\n      <th>NUM_UNIQUE(trx.cedula1)</th>\n      <th>NUM_UNIQUE(trx.codigo_transaccion)</th>\n      <th>MODE(trx.cedula1)</th>\n      <th>MODE(trx.codigo_transaccion)</th>\n      <th>DAY(fecha_de_emision)</th>\n      <th>YEAR(fecha_de_emision)</th>\n      <th>MONTH(fecha_de_emision)</th>\n      <th>WEEKDAY(fecha_de_emision)</th>\n      <th>NUM_UNIQUE(trx.DAY(fecha_de_transaccion))</th>\n      <th>NUM_UNIQUE(trx.MONTH(fecha_de_transaccion))</th>\n      <th>NUM_UNIQUE(trx.WEEKDAY(fecha_de_transaccion))</th>\n      <th>NUM_UNIQUE(trx.YEAR(fecha_de_transaccion))</th>\n      <th>MODE(trx.DAY(fecha_de_transaccion))</th>\n      <th>MODE(trx.MONTH(fecha_de_transaccion))</th>\n      <th>MODE(trx.WEEKDAY(fecha_de_transaccion))</th>\n      <th>MODE(trx.YEAR(fecha_de_transaccion))</th>\n      <th>numerotarjeta1</th>\n      <th>codigo_estado_tarjeta</th>\n    </tr>\n  </thead>\n  <tbody>\n    <tr>\n      <th>0</th>\n      <td>126039</td>\n      <td>amex</td>\n      <td>azul</td>\n      <td>3000000.00</td>\n      <td>3000000.00</td>\n      <td>0</td>\n      <td>0.00</td>\n      <td>0</td>\n      <td>135511.50</td>\n      <td>182.00</td>\n      <td>10841.27</td>\n      <td>5.97</td>\n      <td>28900.00</td>\n      <td>12.00</td>\n      <td>1.78</td>\n      <td>-0.34</td>\n      <td>4.72</td>\n      <td>0.00</td>\n      <td>5211.98</td>\n      <td>7.00</td>\n      <td>26.00</td>\n      <td>1.00</td>\n      <td>4.00</td>\n      <td>126039</td>\n      <td>7</td>\n      <td>9</td>\n      <td>2014</td>\n      <td>7</td>\n      <td>2</td>\n      <td>17.00</td>\n      <td>5.00</td>\n      <td>6.00</td>\n      <td>1.00</td>\n      <td>20.00</td>\n      <td>1.00</td>\n      <td>0.00</td>\n      <td>2015.00</td>\n      <td>9941</td>\n      <td>0</td>\n    </tr>\n    <tr>\n      <th>1</th>\n      <td>126036</td>\n      <td>visa</td>\n      <td>clasica tradicional</td>\n      <td>3000000.00</td>\n      <td>2240678.97</td>\n      <td>9</td>\n      <td>0.00</td>\n      <td>0</td>\n      <td>2882325.43</td>\n      <td>105.00</td>\n      <td>206892.79</td>\n      <td>6.56</td>\n      <td>929164.00</td>\n      <td>24.00</td>\n      <td>3.21</td>\n      <td>1.55</td>\n      <td>15700.00</td>\n      <td>0.00</td>\n      <td>120096.89</td>\n      <td>4.38</td>\n      <td>24.00</td>\n      <td>1.00</td>\n      <td>4.00</td>\n      <td>126036</td>\n      <td>6</td>\n      <td>31</td>\n      <td>2012</td>\n      <td>7</td>\n      <td>1</td>\n      <td>14.00</td>\n      <td>5.00</td>\n      <td>7.00</td>\n      <td>1.00</td>\n      <td>22.00</td>\n      <td>5.00</td>\n      <td>4.00</td>\n      <td>2015.00</td>\n      <td>61128</td>\n      <td>0</td>\n    </tr>\n    <tr>\n      <th>2</th>\n      <td>126000</td>\n      <td>mastercard</td>\n      <td>mastercard platinum</td>\n      <td>10000000.00</td>\n      <td>5345069.98</td>\n      <td>0</td>\n      <td>0.00</td>\n      <td>0</td>\n      <td>303694.92</td>\n      <td>313.00</td>\n      <td>23359.03</td>\n      <td>7.16</td>\n      <td>101630.00</td>\n      <td>24.00</td>\n      <td>2.71</td>\n      <td>0.11</td>\n      <td>3.14</td>\n      <td>0.00</td>\n      <td>9202.88</td>\n      <td>9.48</td>\n      <td>33.00</td>\n      <td>1.00</td>\n      <td>4.00</td>\n      <td>126000</td>\n      <td>7</td>\n      <td>21</td>\n      <td>2011</td>\n      <td>6</td>\n      <td>1</td>\n      <td>18.00</td>\n      <td>5.00</td>\n      <td>7.00</td>\n      <td>1.00</td>\n      <td>5.00</td>\n      <td>1.00</td>\n      <td>0.00</td>\n      <td>2015.00</td>\n      <td>128985</td>\n      <td>0</td>\n    </tr>\n    <tr>\n      <th>3</th>\n      <td>17645</td>\n      <td>amex</td>\n      <td>azul</td>\n      <td>1200000.00</td>\n      <td>517174.73</td>\n      <td>0</td>\n      <td>0.00</td>\n      <td>0</td>\n      <td>851.23</td>\n      <td>24.00</td>\n      <td>35.26</td>\n      <td>4.67</td>\n      <td>149.05</td>\n      <td>12.00</td>\n      <td>1.68</td>\n      <td>2.06</td>\n      <td>42.00</td>\n      <td>0.00</td>\n      <td>70.94</td>\n      <td>2.00</td>\n      <td>12.00</td>\n      <td>1.00</td>\n      <td>2.00</td>\n      <td>17645</td>\n      <td>4</td>\n      <td>15</td>\n      <td>2012</td>\n      <td>5</td>\n      <td>1</td>\n      <td>8.00</td>\n      <td>10.00</td>\n      <td>5.00</td>\n      <td>1.00</td>\n      <td>25.00</td>\n      <td>3.00</td>\n      <td>2.00</td>\n      <td>2015.00</td>\n      <td>17005</td>\n      <td>0</td>\n    </tr>\n    <tr>\n      <th>4</th>\n      <td>64129</td>\n      <td>amex</td>\n      <td>azul</td>\n      <td>2000000.00</td>\n      <td>1036992.90</td>\n      <td>9</td>\n      <td>0.00</td>\n      <td>0</td>\n      <td>757600.00</td>\n      <td>0.00</td>\n      <td>42880.04</td>\n      <td>0.00</td>\n      <td>178000.00</td>\n      <td>0.00</td>\n      <td>1.81</td>\n      <td>0.00</td>\n      <td>28900.00</td>\n      <td>0.00</td>\n      <td>68872.73</td>\n      <td>0.00</td>\n      <td>11.00</td>\n      <td>1.00</td>\n      <td>2.00</td>\n      <td>64129</td>\n      <td>4</td>\n      <td>17</td>\n      <td>2012</td>\n      <td>5</td>\n      <td>3</td>\n      <td>7.00</td>\n      <td>10.00</td>\n      <td>5.00</td>\n      <td>1.00</td>\n      <td>29.00</td>\n      <td>9.00</td>\n      <td>4.00</td>\n      <td>2015.00</td>\n      <td>2320</td>\n      <td>0</td>\n    </tr>\n  </tbody>\n</table>\n</div>"
     },
     "metadata": {},
     "output_type": "execute_result",
     "execution_count": 11
    }
   ],
   "source": [
    "np.random.seed(seed=42)\n",
    "data, features_names = ft.dfs(entityset=es, target_entity='users', max_depth=2)\n",
    "\n",
    "data['numerotarjeta1'] = data.index\n",
    "data.reset_index(drop=True, inplace=True)\n",
    "data = pd.merge(left=data, right=codigo_estado_tarjeta,\n",
    "                    how='left', on=['numerotarjeta1'])\n",
    "print(f'El conjunto de datos tiene {data.shape[0]} observaciones, y {data.shape[1]} variables.')\n",
    "data.head()"
   ],
   "metadata": {
    "collapsed": false,
    "pycharm": {
     "name": "#%%\n",
     "is_executing": false
    }
   }
  },
  {
   "cell_type": "code",
   "execution_count": 12,
   "outputs": [],
   "source": [
    "cols = ['cedula1', 'NUM_UNIQUE(trx.cedula1)', 'MODE(trx.cedula1)']\n",
    "data.drop(cols, axis=1, inplace=True)"
   ],
   "metadata": {
    "collapsed": false,
    "pycharm": {
     "name": "#%%\n",
     "is_executing": false
    }
   }
  },
  {
   "cell_type": "code",
   "execution_count": 13,
   "outputs": [],
   "source": [
    "for col in data.columns[data.isnull().sum() > 0].tolist():\n",
    "    data[col] = data[col].fillna(0)"
   ],
   "metadata": {
    "collapsed": false,
    "pycharm": {
     "name": "#%%\n",
     "is_executing": false
    }
   }
  },
  {
   "cell_type": "code",
   "execution_count": 14,
   "outputs": [],
   "source": [
    "label = data.pop(target)\n",
    "X = data.drop('numerotarjeta1', axis=1)\n",
    "y = label"
   ],
   "metadata": {
    "collapsed": false,
    "pycharm": {
     "name": "#%%\n",
     "is_executing": false
    }
   }
  },
  {
   "cell_type": "code",
   "execution_count": 15,
   "outputs": [
    {
     "name": "stdout",
     "text": [
      "El conjunto de entrenamiento tiene 88578 observaciones, y 34 variables\n",
      "El conjunto de entrenamiento tiene 37963 observaciones, y 34 variables\n"
     ],
     "output_type": "stream"
    }
   ],
   "source": [
    "X_train, X_test, y_train, y_test = train_test_split(X, y, test_size=0.3, random_state=42)\n",
    "print(f'El conjunto de entrenamiento tiene {X_train.shape[0]} observaciones, y {X_train.shape[1]} variables')\n",
    "print(f'El conjunto de entrenamiento tiene {X_test.shape[0]} observaciones, y {X_test.shape[1]} variables')"
   ],
   "metadata": {
    "collapsed": false,
    "pycharm": {
     "name": "#%%\n",
     "is_executing": false
    }
   }
  },
  {
   "cell_type": "code",
   "execution_count": 16,
   "outputs": [],
   "source": [
    "global_transformations = Pipeline([('selector', ColumnSelector(columns=numerical_features + categorical_features)),\n",
    "                                   ('convert_dtypes', ConvertDtypes(numerical=numerical_features,\n",
    "                                                                    categorical=categorical_features))])\n",
    "\n",
    "numerical_transformations = Pipeline([('selector', ColumnSelector(columns=numerical_features)),\n",
    "                                      ('scaler', StandardScaler()),\n",
    "                                      ('dataframe', GetDataFrame(columns=numerical_features))])\n",
    "\n",
    "categorical_transformations = Pipeline([('selector', ColumnSelector(columns=categorical_features)),\n",
    "                                        ('ohe', GetDummies(columns=categorical_features))])"
   ],
   "metadata": {
    "collapsed": false,
    "pycharm": {
     "name": "#%%\n",
     "is_executing": false
    }
   }
  },
  {
   "cell_type": "code",
   "execution_count": 17,
   "outputs": [],
   "source": [
    "preprocessing = Pipeline([('globals', global_transformations),\n",
    "                          ('features', FeatureUnion([\n",
    "                              ('numerical', numerical_transformations),\n",
    "                              ('categorical', categorical_transformations)\n",
    "                          ])),\n",
    "                          ('dataframe', GetDataFrame(columns=features))])"
   ],
   "metadata": {
    "collapsed": false,
    "pycharm": {
     "name": "#%%\n",
     "is_executing": false
    }
   }
  },
  {
   "cell_type": "code",
   "execution_count": 18,
   "outputs": [],
   "source": [
    "lr = Pipeline([('preprocessing', preprocessing),\n",
    "               ('estimator', LogisticRegression(random_state=42))])\n",
    "svm = Pipeline([('preprocessing', preprocessing),\n",
    "                ('estimator', SVC(random_state=42))])\n",
    "rf = Pipeline([('preprocessing', preprocessing),\n",
    "               ('estimator', RandomForestClassifier(random_state=42))])\n",
    "gb = Pipeline([('preprocessing', preprocessing),\n",
    "               ('estimator', GradientBoostingClassifier(random_state=42))])"
   ],
   "metadata": {
    "collapsed": false,
    "pycharm": {
     "name": "#%%\n",
     "is_executing": false
    }
   }
  },
  {
   "cell_type": "code",
   "execution_count": 21,
   "outputs": [],
   "source": [
    "roc = {\n",
    "    'lr': [cross_val_score(estimator=lr, X=X, y=y, scoring='roc_auc', cv=10).mean()],\n",
    "    'svm': [cross_val_score(estimator=svm, X=X, y=y, scoring='roc_auc', cv=10).mean()],\n",
    "    'rf': [cross_val_score(estimator=rf, X=X, y=y, scoring='roc_auc', cv=10).mean()],\n",
    "    'gb': [cross_val_score(estimator=gb, X=X, y=y, scoring='roc_auc', cv=10).mean()]\n",
    "       }"
   ],
   "metadata": {
    "collapsed": false,
    "pycharm": {
     "name": "#%%\n",
     "is_executing": false
    }
   }
  },
  {
   "cell_type": "code",
   "execution_count": 22,
   "outputs": [
    {
     "data": {
      "text/plain": "     ROC\nlr  0.99\nsvm 0.99\nrf  0.99\ngb  1.00",
      "text/html": "<div>\n<style scoped>\n    .dataframe tbody tr th:only-of-type {\n        vertical-align: middle;\n    }\n\n    .dataframe tbody tr th {\n        vertical-align: top;\n    }\n\n    .dataframe thead th {\n        text-align: right;\n    }\n</style>\n<table border=\"1\" class=\"dataframe\">\n  <thead>\n    <tr style=\"text-align: right;\">\n      <th></th>\n      <th>ROC</th>\n    </tr>\n  </thead>\n  <tbody>\n    <tr>\n      <th>lr</th>\n      <td>0.99</td>\n    </tr>\n    <tr>\n      <th>svm</th>\n      <td>0.99</td>\n    </tr>\n    <tr>\n      <th>rf</th>\n      <td>0.99</td>\n    </tr>\n    <tr>\n      <th>gb</th>\n      <td>1.00</td>\n    </tr>\n  </tbody>\n</table>\n</div>"
     },
     "metadata": {},
     "output_type": "execute_result",
     "execution_count": 22
    }
   ],
   "source": [
    "resultados = pd.DataFrame.from_dict(data=roc).T\n",
    "resultados.columns = ['ROC']\n",
    "resultados"
   ],
   "metadata": {
    "collapsed": false,
    "pycharm": {
     "name": "#%%\n",
     "is_executing": false
    }
   }
  },
  {
   "cell_type": "markdown",
   "source": [
    "## Construcción del modelo\n",
    "\n",
    "### Gradient Boosting"
   ],
   "metadata": {
    "collapsed": false,
    "pycharm": {
     "name": "#%% md\n"
    }
   }
  },
  {
   "cell_type": "code",
   "execution_count": 19,
   "outputs": [
    {
     "data": {
      "text/plain": "              precision  recall  f1-score  support\n0                  0.99    0.98      0.99 18115.00\n1                  0.98    0.99      0.99 19848.00\naccuracy           0.99    0.99      0.99     0.99\nmacro avg          0.99    0.99      0.99 37963.00\nweighted avg       0.99    0.99      0.99 37963.00",
      "text/html": "<div>\n<style scoped>\n    .dataframe tbody tr th:only-of-type {\n        vertical-align: middle;\n    }\n\n    .dataframe tbody tr th {\n        vertical-align: top;\n    }\n\n    .dataframe thead th {\n        text-align: right;\n    }\n</style>\n<table border=\"1\" class=\"dataframe\">\n  <thead>\n    <tr style=\"text-align: right;\">\n      <th></th>\n      <th>precision</th>\n      <th>recall</th>\n      <th>f1-score</th>\n      <th>support</th>\n    </tr>\n  </thead>\n  <tbody>\n    <tr>\n      <th>0</th>\n      <td>0.99</td>\n      <td>0.98</td>\n      <td>0.99</td>\n      <td>18115.00</td>\n    </tr>\n    <tr>\n      <th>1</th>\n      <td>0.98</td>\n      <td>0.99</td>\n      <td>0.99</td>\n      <td>19848.00</td>\n    </tr>\n    <tr>\n      <th>accuracy</th>\n      <td>0.99</td>\n      <td>0.99</td>\n      <td>0.99</td>\n      <td>0.99</td>\n    </tr>\n    <tr>\n      <th>macro avg</th>\n      <td>0.99</td>\n      <td>0.99</td>\n      <td>0.99</td>\n      <td>37963.00</td>\n    </tr>\n    <tr>\n      <th>weighted avg</th>\n      <td>0.99</td>\n      <td>0.99</td>\n      <td>0.99</td>\n      <td>37963.00</td>\n    </tr>\n  </tbody>\n</table>\n</div>"
     },
     "metadata": {},
     "output_type": "execute_result",
     "execution_count": 19
    }
   ],
   "source": [
    "gb.fit(X_train, y_train)\n",
    "y_pred = gb.predict(X_test)\n",
    "joblib.dump(gb, filename='models/gradient_boosting.pkl')\n",
    "\n",
    "generate_report(y_test, y_pred)"
   ],
   "metadata": {
    "collapsed": false,
    "pycharm": {
     "name": "#%%\n",
     "is_executing": false
    }
   }
  },
  {
   "cell_type": "code",
   "execution_count": 20,
   "outputs": [
    {
     "name": "stdout",
     "text": [
      "El área bajo la curva ROC es: 0.9856437937432964\n",
      "La exactitud es: 0.9859863551352633\n",
      "La precisión es: 0.9803063457330415\n",
      "El recall es: 0.9931479242241031\n",
      "El puntaje F1 es: 0.9866853538892781\n",
      "El coeficiente de correlación de Matthews es: 0.9719882568698346 \n",
      "\n"
     ],
     "output_type": "stream"
    },
    {
     "data": {
      "text/plain": "Predicho   Activo  Desercion\nObservado                   \nActivo       0.98       0.02\nDesercion    0.01       0.99",
      "text/html": "<div>\n<style scoped>\n    .dataframe tbody tr th:only-of-type {\n        vertical-align: middle;\n    }\n\n    .dataframe tbody tr th {\n        vertical-align: top;\n    }\n\n    .dataframe thead th {\n        text-align: right;\n    }\n</style>\n<table border=\"1\" class=\"dataframe\">\n  <thead>\n    <tr style=\"text-align: right;\">\n      <th>Predicho</th>\n      <th>Activo</th>\n      <th>Desercion</th>\n    </tr>\n    <tr>\n      <th>Observado</th>\n      <th></th>\n      <th></th>\n    </tr>\n  </thead>\n  <tbody>\n    <tr>\n      <th>Activo</th>\n      <td>0.98</td>\n      <td>0.02</td>\n    </tr>\n    <tr>\n      <th>Desercion</th>\n      <td>0.01</td>\n      <td>0.99</td>\n    </tr>\n  </tbody>\n</table>\n</div>"
     },
     "metadata": {},
     "output_type": "execute_result",
     "execution_count": 20
    }
   ],
   "source": [
    "metrics_summary(y_test, y_pred)\n",
    "confusion_matrix(y_test, y_pred)"
   ],
   "metadata": {
    "collapsed": false,
    "pycharm": {
     "name": "#%%\n",
     "is_executing": false
    }
   }
  },
  {
   "cell_type": "code",
   "execution_count": 30,
   "outputs": [
    {
     "data": {
      "text/plain": "55976"
     },
     "metadata": {},
     "output_type": "execute_result",
     "execution_count": 30
    }
   ],
   "source": [
    "resultados = pd.read_excel('data/Resultados.xlsx')\n",
    "resultados = resultados['NUMEROTARJETA1'].values.tolist()\n",
    "len(resultados)"
   ],
   "metadata": {
    "collapsed": false,
    "pycharm": {
     "name": "#%%\n",
     "is_executing": false
    }
   }
  },
  {
   "cell_type": "code",
   "execution_count": 31,
   "outputs": [
    {
     "data": {
      "text/plain": "126541"
     },
     "metadata": {},
     "output_type": "execute_result",
     "execution_count": 31
    }
   ],
   "source": [
    "test = data['numerotarjeta1'].values.tolist()\n",
    "len(test)"
   ],
   "metadata": {
    "collapsed": false,
    "pycharm": {
     "name": "#%%\n",
     "is_executing": false
    }
   }
  },
  {
   "cell_type": "code",
   "execution_count": 32,
   "outputs": [
    {
     "data": {
      "text/plain": "55939"
     },
     "metadata": {},
     "output_type": "execute_result",
     "execution_count": 32
    }
   ],
   "source": [
    "coinciden = [i for i in resultados if i in test]\n",
    "len(coinciden)"
   ],
   "metadata": {
    "collapsed": false,
    "pycharm": {
     "name": "#%%\n",
     "is_executing": false
    }
   }
  },
  {
   "cell_type": "code",
   "execution_count": 33,
   "outputs": [
    {
     "data": {
      "text/plain": "  franquicia tipo_tarjeta  cupo_global  disponible  total_mes_en_mora  \\\n0       amex         azul   4000000.00  1309046.44                  7   \n1       amex         azul   2400000.00  2400000.00                  2   \n2       amex         azul   1900000.00   113626.29                  0   \n3       amex         azul   1300000.00  1300000.00                  0   \n4       amex         azul   3900000.00  2669408.18                  5   \n\n   altura_de_mora  aumento_cupo  SUM(trx.valor_transaccion)  \\\n0            0.00             1                 10396826.00   \n1            0.00             1                   283413.24   \n2            0.00             0                  4788189.71   \n3            0.00             0                        0.00   \n4            0.00             1                  3029360.00   \n\n   SUM(trx.numero_cuotas_diferidas)  STD(trx.valor_transaccion)  \\\n0                            153.00                   216847.33   \n1                             36.00                    20814.13   \n2                            180.00                   386295.18   \n3                              0.00                        0.00   \n4                              3.00                   207918.12   \n\n   STD(trx.numero_cuotas_diferidas)  MAX(trx.valor_transaccion)  \\\n0                              1.83                  1600100.00   \n1                              7.46                    40460.00   \n2                             15.99                  1786373.71   \n3                              0.00                        0.00   \n4                              0.77                   700000.00   \n\n   MAX(trx.numero_cuotas_diferidas)  SKEW(trx.valor_transaccion)  \\\n0                              8.00                         4.97   \n1                             24.00                        -0.39   \n2                             36.00                         3.73   \n3                              0.00                         0.00   \n4                              3.00                         1.71   \n\n   SKEW(trx.numero_cuotas_diferidas)  MIN(trx.valor_transaccion)  \\\n0                               1.26                    20000.00   \n1                               2.56                       10.00   \n2                               1.25                    17340.00   \n3                               0.00                        0.00   \n4                               3.87                    17340.00   \n\n   MIN(trx.numero_cuotas_diferidas)  MEAN(trx.valor_transaccion)  \\\n0                              0.00                    155176.51   \n1                              0.00                     23617.77   \n2                              0.00                    239409.49   \n3                              0.00                         0.00   \n4                              0.00                    201957.33   \n\n   MEAN(trx.numero_cuotas_diferidas)  COUNT(trx)  \\\n0                               2.28       67.00   \n1                               3.00       12.00   \n2                               9.00       20.00   \n3                               0.00        0.00   \n4                               0.20       15.00   \n\n   NUM_UNIQUE(trx.codigo_transaccion) MODE(trx.codigo_transaccion)  \\\n0                                3.00                            6   \n1                                3.00                            4   \n2                                3.00                            4   \n3                                0.00                            0   \n4                                3.00                            4   \n\n   DAY(fecha_de_emision)  YEAR(fecha_de_emision)  MONTH(fecha_de_emision)  \\\n0                     31                    2002                       10   \n1                     12                    2003                        8   \n2                      5                    2012                        6   \n3                      3                    2014                       12   \n4                      4                    2008                        1   \n\n   WEEKDAY(fecha_de_emision)  NUM_UNIQUE(trx.DAY(fecha_de_transaccion))  \\\n0                          3                                      26.00   \n1                          1                                       5.00   \n2                          1                                      14.00   \n3                          2                                       0.00   \n4                          4                                       7.00   \n\n   NUM_UNIQUE(trx.MONTH(fecha_de_transaccion))  \\\n0                                        10.00   \n1                                         8.00   \n2                                         8.00   \n3                                         0.00   \n4                                        10.00   \n\n   NUM_UNIQUE(trx.WEEKDAY(fecha_de_transaccion))  \\\n0                                           7.00   \n1                                           6.00   \n2                                           5.00   \n3                                           0.00   \n4                                           5.00   \n\n   NUM_UNIQUE(trx.YEAR(fecha_de_transaccion))  \\\n0                                        1.00   \n1                                        1.00   \n2                                        1.00   \n3                                        0.00   \n4                                        1.00   \n\n   MODE(trx.DAY(fecha_de_transaccion))  MODE(trx.MONTH(fecha_de_transaccion))  \\\n0                                15.00                                  10.00   \n1                                 4.00                                   2.00   \n2                                 2.00                                   3.00   \n3                                 0.00                                   0.00   \n4                                14.00                                   2.00   \n\n   MODE(trx.WEEKDAY(fecha_de_transaccion))  \\\n0                                     2.00   \n1                                     2.00   \n2                                     4.00   \n3                                     0.00   \n4                                     1.00   \n\n   MODE(trx.YEAR(fecha_de_transaccion))  numerotarjeta1  \n0                               2015.00               8  \n1                               2015.00              12  \n2                               2015.00              14  \n3                                  0.00              19  \n4                               2015.00              23  ",
      "text/html": "<div>\n<style scoped>\n    .dataframe tbody tr th:only-of-type {\n        vertical-align: middle;\n    }\n\n    .dataframe tbody tr th {\n        vertical-align: top;\n    }\n\n    .dataframe thead th {\n        text-align: right;\n    }\n</style>\n<table border=\"1\" class=\"dataframe\">\n  <thead>\n    <tr style=\"text-align: right;\">\n      <th></th>\n      <th>franquicia</th>\n      <th>tipo_tarjeta</th>\n      <th>cupo_global</th>\n      <th>disponible</th>\n      <th>total_mes_en_mora</th>\n      <th>altura_de_mora</th>\n      <th>aumento_cupo</th>\n      <th>SUM(trx.valor_transaccion)</th>\n      <th>SUM(trx.numero_cuotas_diferidas)</th>\n      <th>STD(trx.valor_transaccion)</th>\n      <th>STD(trx.numero_cuotas_diferidas)</th>\n      <th>MAX(trx.valor_transaccion)</th>\n      <th>MAX(trx.numero_cuotas_diferidas)</th>\n      <th>SKEW(trx.valor_transaccion)</th>\n      <th>SKEW(trx.numero_cuotas_diferidas)</th>\n      <th>MIN(trx.valor_transaccion)</th>\n      <th>MIN(trx.numero_cuotas_diferidas)</th>\n      <th>MEAN(trx.valor_transaccion)</th>\n      <th>MEAN(trx.numero_cuotas_diferidas)</th>\n      <th>COUNT(trx)</th>\n      <th>NUM_UNIQUE(trx.codigo_transaccion)</th>\n      <th>MODE(trx.codigo_transaccion)</th>\n      <th>DAY(fecha_de_emision)</th>\n      <th>YEAR(fecha_de_emision)</th>\n      <th>MONTH(fecha_de_emision)</th>\n      <th>WEEKDAY(fecha_de_emision)</th>\n      <th>NUM_UNIQUE(trx.DAY(fecha_de_transaccion))</th>\n      <th>NUM_UNIQUE(trx.MONTH(fecha_de_transaccion))</th>\n      <th>NUM_UNIQUE(trx.WEEKDAY(fecha_de_transaccion))</th>\n      <th>NUM_UNIQUE(trx.YEAR(fecha_de_transaccion))</th>\n      <th>MODE(trx.DAY(fecha_de_transaccion))</th>\n      <th>MODE(trx.MONTH(fecha_de_transaccion))</th>\n      <th>MODE(trx.WEEKDAY(fecha_de_transaccion))</th>\n      <th>MODE(trx.YEAR(fecha_de_transaccion))</th>\n      <th>numerotarjeta1</th>\n    </tr>\n  </thead>\n  <tbody>\n    <tr>\n      <th>0</th>\n      <td>amex</td>\n      <td>azul</td>\n      <td>4000000.00</td>\n      <td>1309046.44</td>\n      <td>7</td>\n      <td>0.00</td>\n      <td>1</td>\n      <td>10396826.00</td>\n      <td>153.00</td>\n      <td>216847.33</td>\n      <td>1.83</td>\n      <td>1600100.00</td>\n      <td>8.00</td>\n      <td>4.97</td>\n      <td>1.26</td>\n      <td>20000.00</td>\n      <td>0.00</td>\n      <td>155176.51</td>\n      <td>2.28</td>\n      <td>67.00</td>\n      <td>3.00</td>\n      <td>6</td>\n      <td>31</td>\n      <td>2002</td>\n      <td>10</td>\n      <td>3</td>\n      <td>26.00</td>\n      <td>10.00</td>\n      <td>7.00</td>\n      <td>1.00</td>\n      <td>15.00</td>\n      <td>10.00</td>\n      <td>2.00</td>\n      <td>2015.00</td>\n      <td>8</td>\n    </tr>\n    <tr>\n      <th>1</th>\n      <td>amex</td>\n      <td>azul</td>\n      <td>2400000.00</td>\n      <td>2400000.00</td>\n      <td>2</td>\n      <td>0.00</td>\n      <td>1</td>\n      <td>283413.24</td>\n      <td>36.00</td>\n      <td>20814.13</td>\n      <td>7.46</td>\n      <td>40460.00</td>\n      <td>24.00</td>\n      <td>-0.39</td>\n      <td>2.56</td>\n      <td>10.00</td>\n      <td>0.00</td>\n      <td>23617.77</td>\n      <td>3.00</td>\n      <td>12.00</td>\n      <td>3.00</td>\n      <td>4</td>\n      <td>12</td>\n      <td>2003</td>\n      <td>8</td>\n      <td>1</td>\n      <td>5.00</td>\n      <td>8.00</td>\n      <td>6.00</td>\n      <td>1.00</td>\n      <td>4.00</td>\n      <td>2.00</td>\n      <td>2.00</td>\n      <td>2015.00</td>\n      <td>12</td>\n    </tr>\n    <tr>\n      <th>2</th>\n      <td>amex</td>\n      <td>azul</td>\n      <td>1900000.00</td>\n      <td>113626.29</td>\n      <td>0</td>\n      <td>0.00</td>\n      <td>0</td>\n      <td>4788189.71</td>\n      <td>180.00</td>\n      <td>386295.18</td>\n      <td>15.99</td>\n      <td>1786373.71</td>\n      <td>36.00</td>\n      <td>3.73</td>\n      <td>1.25</td>\n      <td>17340.00</td>\n      <td>0.00</td>\n      <td>239409.49</td>\n      <td>9.00</td>\n      <td>20.00</td>\n      <td>3.00</td>\n      <td>4</td>\n      <td>5</td>\n      <td>2012</td>\n      <td>6</td>\n      <td>1</td>\n      <td>14.00</td>\n      <td>8.00</td>\n      <td>5.00</td>\n      <td>1.00</td>\n      <td>2.00</td>\n      <td>3.00</td>\n      <td>4.00</td>\n      <td>2015.00</td>\n      <td>14</td>\n    </tr>\n    <tr>\n      <th>3</th>\n      <td>amex</td>\n      <td>azul</td>\n      <td>1300000.00</td>\n      <td>1300000.00</td>\n      <td>0</td>\n      <td>0.00</td>\n      <td>0</td>\n      <td>0.00</td>\n      <td>0.00</td>\n      <td>0.00</td>\n      <td>0.00</td>\n      <td>0.00</td>\n      <td>0.00</td>\n      <td>0.00</td>\n      <td>0.00</td>\n      <td>0.00</td>\n      <td>0.00</td>\n      <td>0.00</td>\n      <td>0.00</td>\n      <td>0.00</td>\n      <td>0.00</td>\n      <td>0</td>\n      <td>3</td>\n      <td>2014</td>\n      <td>12</td>\n      <td>2</td>\n      <td>0.00</td>\n      <td>0.00</td>\n      <td>0.00</td>\n      <td>0.00</td>\n      <td>0.00</td>\n      <td>0.00</td>\n      <td>0.00</td>\n      <td>0.00</td>\n      <td>19</td>\n    </tr>\n    <tr>\n      <th>4</th>\n      <td>amex</td>\n      <td>azul</td>\n      <td>3900000.00</td>\n      <td>2669408.18</td>\n      <td>5</td>\n      <td>0.00</td>\n      <td>1</td>\n      <td>3029360.00</td>\n      <td>3.00</td>\n      <td>207918.12</td>\n      <td>0.77</td>\n      <td>700000.00</td>\n      <td>3.00</td>\n      <td>1.71</td>\n      <td>3.87</td>\n      <td>17340.00</td>\n      <td>0.00</td>\n      <td>201957.33</td>\n      <td>0.20</td>\n      <td>15.00</td>\n      <td>3.00</td>\n      <td>4</td>\n      <td>4</td>\n      <td>2008</td>\n      <td>1</td>\n      <td>4</td>\n      <td>7.00</td>\n      <td>10.00</td>\n      <td>5.00</td>\n      <td>1.00</td>\n      <td>14.00</td>\n      <td>2.00</td>\n      <td>1.00</td>\n      <td>2015.00</td>\n      <td>23</td>\n    </tr>\n  </tbody>\n</table>\n</div>"
     },
     "metadata": {},
     "output_type": "execute_result",
     "execution_count": 33
    }
   ],
   "source": [
    "test = data.set_index('numerotarjeta1')\n",
    "test = test.loc[coinciden, :]\n",
    "test['numerotarjeta1'] = test.index\n",
    "test.reset_index(drop=True, inplace=True)\n",
    "test.head()"
   ],
   "metadata": {
    "collapsed": false,
    "pycharm": {
     "name": "#%%\n",
     "is_executing": false
    }
   }
  },
  {
   "cell_type": "code",
   "execution_count": 34,
   "outputs": [
    {
     "data": {
      "text/plain": "                         Email  numerotarjeta1  Pred\n0      stivenlopezg2@gmail.com               8  0.00\n1      stivenlopezg2@gmail.com              12  0.00\n2      stivenlopezg2@gmail.com              14  0.00\n3      stivenlopezg2@gmail.com              19  0.07\n4      stivenlopezg2@gmail.com              23  0.00\n55934  stivenlopezg2@gmail.com          129828  0.00\n55935  stivenlopezg2@gmail.com          129829  0.00\n55936  stivenlopezg2@gmail.com          129830  0.00\n55937  stivenlopezg2@gmail.com          129831  0.00\n55938  stivenlopezg2@gmail.com          129832  0.00",
      "text/html": "<div>\n<style scoped>\n    .dataframe tbody tr th:only-of-type {\n        vertical-align: middle;\n    }\n\n    .dataframe tbody tr th {\n        vertical-align: top;\n    }\n\n    .dataframe thead th {\n        text-align: right;\n    }\n</style>\n<table border=\"1\" class=\"dataframe\">\n  <thead>\n    <tr style=\"text-align: right;\">\n      <th></th>\n      <th>Email</th>\n      <th>numerotarjeta1</th>\n      <th>Pred</th>\n    </tr>\n  </thead>\n  <tbody>\n    <tr>\n      <th>0</th>\n      <td>stivenlopezg2@gmail.com</td>\n      <td>8</td>\n      <td>0.00</td>\n    </tr>\n    <tr>\n      <th>1</th>\n      <td>stivenlopezg2@gmail.com</td>\n      <td>12</td>\n      <td>0.00</td>\n    </tr>\n    <tr>\n      <th>2</th>\n      <td>stivenlopezg2@gmail.com</td>\n      <td>14</td>\n      <td>0.00</td>\n    </tr>\n    <tr>\n      <th>3</th>\n      <td>stivenlopezg2@gmail.com</td>\n      <td>19</td>\n      <td>0.07</td>\n    </tr>\n    <tr>\n      <th>4</th>\n      <td>stivenlopezg2@gmail.com</td>\n      <td>23</td>\n      <td>0.00</td>\n    </tr>\n    <tr>\n      <th>55934</th>\n      <td>stivenlopezg2@gmail.com</td>\n      <td>129828</td>\n      <td>0.00</td>\n    </tr>\n    <tr>\n      <th>55935</th>\n      <td>stivenlopezg2@gmail.com</td>\n      <td>129829</td>\n      <td>0.00</td>\n    </tr>\n    <tr>\n      <th>55936</th>\n      <td>stivenlopezg2@gmail.com</td>\n      <td>129830</td>\n      <td>0.00</td>\n    </tr>\n    <tr>\n      <th>55937</th>\n      <td>stivenlopezg2@gmail.com</td>\n      <td>129831</td>\n      <td>0.00</td>\n    </tr>\n    <tr>\n      <th>55938</th>\n      <td>stivenlopezg2@gmail.com</td>\n      <td>129832</td>\n      <td>0.00</td>\n    </tr>\n  </tbody>\n</table>\n</div>"
     },
     "metadata": {},
     "output_type": "execute_result",
     "execution_count": 34
    }
   ],
   "source": [
    "test['Email'] = 'stivenlopezg2@gmail.com'\n",
    "prediccion = pd.DataFrame(np.round(gb.predict_proba(test), 2), columns=['0', 'Pred'])\n",
    "test = pd.concat([test, prediccion], axis=1)\n",
    "test = test.loc[:, ['Email', 'numerotarjeta1', 'Pred']]\n",
    "test.head().append(test.tail())"
   ],
   "metadata": {
    "collapsed": false,
    "pycharm": {
     "name": "#%%\n",
     "is_executing": false
    }
   }
  },
  {
   "cell_type": "code",
   "execution_count": 36,
   "outputs": [
    {
     "data": {
      "text/plain": "37"
     },
     "metadata": {},
     "output_type": "execute_result",
     "execution_count": 36
    }
   ],
   "source": [
    "no_coinciden = [i for i in resultados if i not in coinciden]\n",
    "len(no_coinciden)"
   ],
   "metadata": {
    "collapsed": false,
    "pycharm": {
     "name": "#%%\n",
     "is_executing": false
    }
   }
  },
  {
   "cell_type": "code",
   "execution_count": 40,
   "outputs": [],
   "source": [
    "aux = pd.DataFrame({\n",
    "    'numerotarjeta1': no_coinciden\n",
    "})\n",
    "aux['Email'] = 'stivenlopezg2@gmail.com'\n",
    "aux['Pred'] = 0.00"
   ],
   "metadata": {
    "collapsed": false,
    "pycharm": {
     "name": "#%%\n",
     "is_executing": false
    }
   }
  },
  {
   "cell_type": "code",
   "execution_count": 44,
   "outputs": [],
   "source": [
    "test = pd.concat([test, aux], axis=0)\n",
    "test.columns = ['email', 'NUMEROTARJETA1', 'Pred']\n",
    "test.to_excel('Resultados.xlsx', index=False)"
   ],
   "metadata": {
    "collapsed": false,
    "pycharm": {
     "name": "#%%\n",
     "is_executing": false
    }
   }
  },
  {
   "cell_type": "code",
   "execution_count": null,
   "outputs": [],
   "source": [
    "\n"
   ],
   "metadata": {
    "collapsed": false,
    "pycharm": {
     "name": "#%%\n"
    }
   }
  }
 ],
 "metadata": {
  "kernelspec": {
   "display_name": "Python 3",
   "language": "python",
   "name": "python3"
  },
  "language_info": {
   "codemirror_mode": {
    "name": "ipython",
    "version": 2
   },
   "file_extension": ".py",
   "mimetype": "text/x-python",
   "name": "python",
   "nbconvert_exporter": "python",
   "pygments_lexer": "ipython2",
   "version": "2.7.6"
  },
  "pycharm": {
   "stem_cell": {
    "cell_type": "raw",
    "source": [],
    "metadata": {
     "collapsed": false
    }
   }
  }
 },
 "nbformat": 4,
 "nbformat_minor": 0
}